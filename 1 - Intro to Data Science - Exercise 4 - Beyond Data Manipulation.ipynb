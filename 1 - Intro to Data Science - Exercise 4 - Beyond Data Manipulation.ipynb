{
 "cells": [
  {
   "cell_type": "markdown",
   "metadata": {
    "deletable": false,
    "editable": false,
    "nbgrader": {
     "checksum": "48770f8b5f5d3062d3badd51fcafc401",
     "grade": false,
     "grade_id": "cell-a6c4f74309fc2379",
     "locked": true,
     "schema_version": 1,
     "solution": false
    }
   },
   "source": [
    "# Assignment 4\n",
    "## Description\n",
    "In this assignment you must read in a file of metropolitan regions and associated sports teams from [assets/wikipedia_data.html](assets/wikipedia_data.html) and answer some questions about each metropolitan region. Each of these regions may have one or more teams from the \"Big 4\": NFL (football, in [assets/nfl.csv](assets/nfl.csv)), MLB (baseball, in [assets/mlb.csv](assets/mlb.csv)), NBA (basketball, in [assets/nba.csv](assets/nba.csv) or NHL (hockey, in [assets/nhl.csv](assets/nhl.csv)). Please keep in mind that all questions are from the perspective of the metropolitan region, and that this file is the \"source of authority\" for the location of a given sports team. Thus teams which are commonly known by a different area (e.g. \"Oakland Raiders\") need to be mapped into the metropolitan region given (e.g. San Francisco Bay Area). This will require some human data understanding outside of the data you've been given (e.g. you will have to hand-code some names, and might need to google to find out where teams are)!\n",
    "\n",
    "For each sport I would like you to answer the question: **what is the win/loss ratio's correlation with the population of the city it is in?** Win/Loss ratio refers to the number of wins over the number of wins plus the number of losses. Remember that to calculate the correlation with [`pearsonr`](https://docs.scipy.org/doc/scipy/reference/generated/scipy.stats.pearsonr.html), so you are going to send in two ordered lists of values, the populations from the wikipedia_data.html file and the win/loss ratio for a given sport in the same order. Average the win/loss ratios for those cities which have multiple teams of a single sport. Each sport is worth an equal amount in this assignment (20%\\*4=80%) of the grade for this assignment. You should only use data **from year 2018** for your analysis -- this is important!\n",
    "\n",
    "## Notes\n",
    "\n",
    "1. Do not include data about the MLS or CFL in any of the work you are doing, we're only interested in the Big 4 in this assignment.\n",
    "2. I highly suggest that you first tackle the four correlation questions in order, as they are all similar and worth the majority of grades for this assignment. This is by design!\n",
    "3. It's fair game to talk with peers about high level strategy as well as the relationship between metropolitan areas and sports teams. However, do not post code solving aspects of the assignment (including such as dictionaries mapping areas to teams, or regexes which will clean up names).\n",
    "4. There may be more teams than the assert statements test, remember to collapse multiple teams in one city into a single value!"
   ]
  },
  {
   "cell_type": "markdown",
   "metadata": {
    "deletable": false,
    "editable": false,
    "nbgrader": {
     "checksum": "369ff9ecf0ee04640574205cbc697f94",
     "grade": false,
     "grade_id": "cell-712b2b5da63d4505",
     "locked": true,
     "schema_version": 1,
     "solution": false
    }
   },
   "source": [
    "## Question 1\n",
    "For this question, calculate the win/loss ratio's correlation with the population of the city it is in for the **NHL** using **2018** data."
   ]
  },
  {
   "cell_type": "code",
   "execution_count": 1,
   "metadata": {
    "deletable": false,
    "nbgrader": {
     "checksum": "1cac4803b02502929f5b1612d48db2b5",
     "grade": false,
     "grade_id": "cell-69b16e4386e58030",
     "locked": false,
     "schema_version": 1,
     "solution": true
    }
   },
   "outputs": [
    {
     "data": {
      "text/plain": [
       "0.012486162921209907"
      ]
     },
     "execution_count": 1,
     "metadata": {},
     "output_type": "execute_result"
    }
   ],
   "source": [
    "import pandas as pd\n",
    "import numpy as np\n",
    "import scipy.stats as stats\n",
    "import re\n",
    "\n",
    "nhl_df=pd.read_csv(\"assets/nhl.csv\")\n",
    "cities=pd.read_html(\"assets/wikipedia_data.html\")[1]\n",
    "cities=cities.iloc[:-1,[0,3,5,6,7,8]]\n",
    "\n",
    "def nhl_final():\n",
    "    nhl_df=pd.read_csv(\"assets/nhl.csv\")\n",
    "    cities=pd.read_html(\"assets/wikipedia_data.html\")[1]\n",
    "    cities=cities.iloc[:-1,[0,3,5,6,7,8]]\n",
    "\n",
    "    population_by_region = [] # pass in metropolitan area population from cities\n",
    "    win_loss_by_region = [] # pass in win/loss ratio from nhl_df in the same order as cities[\"Metropolitan area\"]\n",
    "\n",
    "    nhl_df = nhl_df.where(nhl_df['year']==2018).dropna(how='all')\n",
    "    nhl_df['team'] = nhl_df['team'].str.replace('[^\\w ]', '')\n",
    "    nhl_df = nhl_df[~nhl_df['team'].str.contains('(Division)')]\n",
    "    nhl_df['W'] = pd.to_numeric(nhl_df['W'])\n",
    "    nhl_df['L'] = pd.to_numeric(nhl_df['L'])\n",
    "    nhl_df['wl_ratio'] = nhl_df['W'] / (nhl_df['W'] + nhl_df['L'])\n",
    "\n",
    "    cities['NHL'] = cities['NHL'].str.extract(r'((?:^|(?<= ))[A-Z][A-Za-z]+)', expand=False) \n",
    "        #Above eliminates bracketed notes at the end of each team description, e.g. [note 3]\n",
    "    cities.rename(columns={'Metropolitan area':'Metro'}, inplace=True)\n",
    "    metrolist = cities.Metro.unique().tolist()\n",
    "    nhl_df['metro'] = nhl_df['team'].apply(lambda x: ''.join([city for city in metrolist if city in x]))\n",
    "        #creates new metro column to nhl_df and populates with known areas from cities df, need to hand code missing values\n",
    "    nhl_df['team'] = nhl_df['team'].str.strip()\n",
    "    nhl_df = nhl_df.sort_values(by=['team'])\n",
    "    nhl_df.reset_index(drop=True,inplace=True)\n",
    "        #need to sort and reset index in order to hand code missing metro areas for teams\n",
    "    nhl_df = nhl_df[['team','W', 'L', 'year', 'wl_ratio', 'metro']] #select relevant columns\n",
    "    nhl_df['metro'].replace(r'^\\s*$', np.nan, regex=True, inplace=True) #apply NaN to missing metro data\n",
    "    citydict = {0:'Los Angeles',1:'Phoenix',5:'Raleigh',7:'Denver',9:'Dallas–Fort Worth',12:'Miami–Fort Lauderdale',14:'Minneapolis–Saint Paul',17:'New York City',18: 'New York City', 19: 'New York City', 23:'San Francisco Bay Area', 24:'St. Louis',25:'Tampa Bay Area',28:'Las Vegas',29:'Washington, D.C.'}\n",
    "    nhl_df['metro'].fillna(citydict, inplace=True)\n",
    "        #fill missing metro data with dictionary values, dict keys being reference to index that was reset earlier\n",
    "    nhl_df['avgWL'] = nhl_df.groupby('metro')['wl_ratio'].transform('mean')\n",
    "        #calculates average wl_ratio by metro area, results are entered into AvgWL column more than once if there is more than 1 team per metro area\n",
    "    cities['Population (2016 est.)[8]'] = pd.to_numeric(cities['Population (2016 est.)[8]'])\n",
    "        #needed else Dallas-Fort Worth population becomes NaN in next step, i.e. series was not all integer type\n",
    "    nhl_df['Population'] = nhl_df.metro.map(cities.set_index('Metro')['Population (2016 est.)[8]'].to_dict())\n",
    "    #print(nhl_df)\n",
    "\n",
    "    nhl_final = nhl_df[['metro','avgWL','Population']]\n",
    "    nhl_final = nhl_final.drop_duplicates(subset=['metro'])\n",
    "    nhl_final = nhl_final.sort_values(by=['metro'])\n",
    "    nhl_final = nhl_final.set_index('metro',drop=True)\n",
    "    #print(nhl_final)\n",
    "    \n",
    "    return nhl_final\n",
    "\n",
    "nhl = nhl_final()\n",
    "\n",
    "def nhl_correlation(): \n",
    "    # YOUR CODE HERE\n",
    "    #raise NotImplementedError()\n",
    "\n",
    "    population_by_region = nhl['Population'] # pass in metropolitan area population from cities\n",
    "    win_loss_by_region = nhl['avgWL'] # pass in win/loss ratio from nhl_df in the same order as cities[\"Metropolitan area\"]\n",
    "\n",
    "    nhl_corr = stats.pearsonr(population_by_region, win_loss_by_region)\n",
    "    \n",
    "    assert len(population_by_region) == len(win_loss_by_region), \"Q1: Your lists must be the same length\"\n",
    "    assert len(population_by_region) == 28, \"Q1: There should be 28 teams being analysed for NHL\"\n",
    "    \n",
    "    return nhl_corr[0]\n",
    "\n",
    "nhl_correlation()"
   ]
  },
  {
   "cell_type": "code",
   "execution_count": null,
   "metadata": {
    "deletable": false,
    "editable": false,
    "nbgrader": {
     "checksum": "52a581df513c71153e105b93764cda4b",
     "grade": true,
     "grade_id": "cell-ebe0b2dfe1067e63",
     "locked": true,
     "points": 20,
     "schema_version": 1,
     "solution": false
    }
   },
   "outputs": [],
   "source": []
  },
  {
   "cell_type": "markdown",
   "metadata": {
    "deletable": false,
    "editable": false,
    "nbgrader": {
     "checksum": "988912cae4968d81473f46d783e79c16",
     "grade": false,
     "grade_id": "cell-cb964e690298b71d",
     "locked": true,
     "schema_version": 1,
     "solution": false
    }
   },
   "source": [
    "## Question 2\n",
    "For this question, calculate the win/loss ratio's correlation with the population of the city it is in for the **NBA** using **2018** data."
   ]
  },
  {
   "cell_type": "code",
   "execution_count": 2,
   "metadata": {
    "deletable": false,
    "nbgrader": {
     "checksum": "9394222aafc8ccab0a228098ba0d6010",
     "grade": false,
     "grade_id": "cell-5a5f21279e3d3572",
     "locked": false,
     "schema_version": 1,
     "solution": true
    }
   },
   "outputs": [
    {
     "data": {
      "text/plain": [
       "-0.17657160252844617"
      ]
     },
     "execution_count": 2,
     "metadata": {},
     "output_type": "execute_result"
    }
   ],
   "source": [
    "import pandas as pd\n",
    "import numpy as np\n",
    "import scipy.stats as stats\n",
    "import re\n",
    "\n",
    "nba_df=pd.read_csv(\"assets/nba.csv\")\n",
    "cities=pd.read_html(\"assets/wikipedia_data.html\")[1]\n",
    "cities=cities.iloc[:-1,[0,3,5,6,7,8]]\n",
    "\n",
    "def nba_final():\n",
    "    population_by_region = [] # pass in metropolitan area population from cities\n",
    "    win_loss_by_region = [] # pass in win/loss ratio from nba_df in the same order as cities[\"Metropolitan area\"]\n",
    "\n",
    "    nba_df=pd.read_csv(\"assets/nba.csv\")\n",
    "    cities=pd.read_html(\"assets/wikipedia_data.html\")[1]\n",
    "    cities=cities.iloc[:-1,[0,3,5,6,7,8]]\n",
    "\n",
    "    nba_df['year'] = pd.to_numeric(nba_df['year'])\n",
    "    nba_df = nba_df.where(nba_df['year']==2018).dropna(how='all')\n",
    "    #nba_df['team'] = nba_df['team'].str.replace('[^\\w ]', '')\n",
    "    nba_df['team'] = nba_df['team'].str.extract(r'((?:^|(?<= ))[A-Z][ A-Za-z]+)', expand=False)\n",
    "    nba_df['team'] = nba_df['team'].str.strip()\n",
    "    nba_df['W'] = pd.to_numeric(nba_df['W'])\n",
    "    nba_df['L'] = pd.to_numeric(nba_df['L'])\n",
    "    nba_df['wl_ratio'] = nba_df['W'] / (nba_df['W'] + nba_df['L'])\n",
    "    cities['NBA'] = cities['NBA'].str.extract(r'((?:^|(?<= ))[A-Z][A-Za-z]+)', expand=False) \n",
    "        #Above eliminates bracketed notes at the end of each team description, e.g. [note 3]\n",
    "    cities.rename(columns={'Metropolitan area':'Metro'}, inplace=True)\n",
    "    metrolist = cities.Metro.unique().tolist()\n",
    "    nba_df['metro'] = nba_df['team'].apply(lambda x: ''.join([city for city in metrolist if city in x]))\n",
    "        #creates new metro column to nhl_df and populates with known areas from cities df, need to hand code missing values\n",
    "    nba_df['team'] = nba_df['team'].str.strip()\n",
    "    nba_df = nba_df.sort_values(by=['team'])\n",
    "    nba_df.reset_index(drop=True,inplace=True)\n",
    "        #need to sort and reset index in order to hand code missing metro areas for teams\n",
    "    nba_df = nba_df[['team','W', 'L', 'year', 'wl_ratio', 'metro']] #select relevant columns\n",
    "    nba_df['metro'].replace(r'^\\s*$', np.nan, regex=True, inplace=True) #apply NaN to missing metro data\n",
    "    citydict = {2:'New York City',6:'Dallas–Fort Worth',9:'San Francisco Bay Area',11:'Indianapolis',15:'Miami–Fort Lauderdale',17:'Minneapolis–Saint Paul',19:'New York City',28:'Salt Lake City',29: 'Washington, D.C.'}\n",
    "        #note that Metro names uses a longer dash '–' vs '-' in the cities DF so the dict above uses...\n",
    "        #the longer dash, this took a while to figure out, it was returning NaN for Dallas population...\n",
    "        #because it was not properly mapping below to create nba_df['Population'] column due to incorrect sized dash used in the hand written dict\n",
    "    nba_df['metro'].fillna(citydict, inplace=True)\n",
    "        #fill missing metro data with dictionary values, dict keys being reference to index that was reset earlier\n",
    "    nba_df['avgWL'] = nba_df.groupby('metro')['wl_ratio'].transform('mean')\n",
    "        #calculates average wl_ratio by metro area, results are entered into AvgWL column more than once if there is more than 1 team per metro area\n",
    "    cities['Population (2016 est.)[8]'] = pd.to_numeric(cities['Population (2016 est.)[8]'])\n",
    "        #needed else Dallas-Fort Worth population becomes NaN in next step, i.e. series was not all integer type\n",
    "    nba_df['Population'] = nba_df.metro.map(cities.set_index('Metro')['Population (2016 est.)[8]'].to_dict())\n",
    "    #print(nba_df)\n",
    "\n",
    "    nba_final = nba_df[['metro','avgWL','Population']]\n",
    "    nba_final = nba_final.drop_duplicates(subset=['metro'])\n",
    "    nba_final = nba_final.sort_values(by=['metro'])\n",
    "    nba_final = nba_final.set_index('metro',drop=True)\n",
    "    #print(nba_final)\n",
    "\n",
    "    return nba_final\n",
    "\n",
    "def nba_correlation():\n",
    "    # YOUR CODE HERE\n",
    "    \n",
    "    nba = nba_final()\n",
    "\n",
    "    population_by_region = nba['Population'] # pass in metropolitan area population from cities\n",
    "    win_loss_by_region = nba['avgWL'] # pass in win/loss ratio from nhl_df in the same order as cities[\"Metropolitan area\"]\n",
    "\n",
    "    nba_corr = stats.pearsonr(population_by_region, win_loss_by_region)\n",
    "    nba_corr[0]\n",
    "    \n",
    "    assert len(population_by_region) == len(win_loss_by_region), \"Q2: Your lists must be the same length\"\n",
    "    assert len(population_by_region) == 28, \"Q2: There should be 28 teams being analysed for NBA\"\n",
    "\n",
    "    #raise NotImplementedError()\n",
    "    return nba_corr[0]\n",
    "\n",
    "nba_correlation()"
   ]
  },
  {
   "cell_type": "code",
   "execution_count": null,
   "metadata": {
    "deletable": false,
    "editable": false,
    "nbgrader": {
     "checksum": "bbdeb8eb22f525a34c10dc8798324e42",
     "grade": true,
     "grade_id": "cell-e573b2b4a282b470",
     "locked": true,
     "points": 20,
     "schema_version": 1,
     "solution": false
    }
   },
   "outputs": [],
   "source": []
  },
  {
   "cell_type": "markdown",
   "metadata": {
    "deletable": false,
    "editable": false,
    "nbgrader": {
     "checksum": "1a1a5809f675ca033086422007cd73bd",
     "grade": false,
     "grade_id": "cell-96e15e4335df78f4",
     "locked": true,
     "schema_version": 1,
     "solution": false
    }
   },
   "source": [
    "## Question 3\n",
    "For this question, calculate the win/loss ratio's correlation with the population of the city it is in for the **MLB** using **2018** data."
   ]
  },
  {
   "cell_type": "code",
   "execution_count": 3,
   "metadata": {
    "deletable": false,
    "nbgrader": {
     "checksum": "27e8c0da6c9fa0dffc10488314335b6c",
     "grade": false,
     "grade_id": "cell-33b00fc3f3467b0c",
     "locked": false,
     "schema_version": 1,
     "solution": true
    }
   },
   "outputs": [
    {
     "data": {
      "text/plain": [
       "0.15027698302669307"
      ]
     },
     "execution_count": 3,
     "metadata": {},
     "output_type": "execute_result"
    }
   ],
   "source": [
    "import pandas as pd\n",
    "import numpy as np\n",
    "import scipy.stats as stats\n",
    "import re\n",
    "\n",
    "mlb_df=pd.read_csv(\"assets/mlb.csv\")\n",
    "cities=pd.read_html(\"assets/wikipedia_data.html\")[1]\n",
    "cities=cities.iloc[:-1,[0,3,5,6,7,8]]\n",
    "\n",
    "def mlb_final():\n",
    "    mlb_df=pd.read_csv(\"assets/mlb.csv\")\n",
    "    cities=pd.read_html(\"assets/wikipedia_data.html\")[1]\n",
    "    cities=cities.iloc[:-1,[0,3,5,6,7,8]]\n",
    "\n",
    "    population_by_region = [] # pass in metropolitan area population from cities\n",
    "    win_loss_by_region = [] # pass in win/loss ratio from mlb_df in the same order as cities[\"Metropolitan area\"]\n",
    "\n",
    "    population_by_region = [] # pass in metropolitan area population from cities\n",
    "    win_loss_by_region = [] # pass in win/loss ratio from nba_df in the same order as cities[\"Metropolitan area\"]\n",
    "\n",
    "    mlb_df['year'] = pd.to_numeric(mlb_df['year'])\n",
    "    mlb_df = mlb_df.where(mlb_df['year']==2018).dropna(how='all')\n",
    "    mlb_df['team'] = mlb_df['team'].str.strip()\n",
    "    mlb_df['W'] = pd.to_numeric(mlb_df['W'])\n",
    "    mlb_df['L'] = pd.to_numeric(mlb_df['L'])\n",
    "    mlb_df['wl_ratio'] = mlb_df['W'] / (mlb_df['W'] + mlb_df['L'])\n",
    "    cities['MLB'] = cities['MLB'].str.extract(r'((?:^|(?<= ))[A-Z][A-Za-z]+)', expand=False) \n",
    "        #Above eliminates bracketed notes at the end of each team description, e.g. [note 3]\n",
    "    cities.rename(columns={'Metropolitan area':'Metro'}, inplace=True)\n",
    "\n",
    "    metrolist = cities.Metro.unique().tolist()\n",
    "    mlb_df['metro'] = mlb_df['team'].apply(lambda x: ''.join([city for city in metrolist if city in x]))\n",
    "        #creates new metro column to nhl_df and populates with known areas from cities df, need to hand code missing values\n",
    "    mlb_df['team'] = mlb_df['team'].str.strip()\n",
    "    mlb_df = mlb_df.sort_values(by=['team'])\n",
    "    mlb_df.reset_index(drop=True,inplace=True)\n",
    "        #need to sort and reset index in order to hand code missing metro areas for teams\n",
    "    mlb_df = mlb_df[['team','W', 'L', 'year', 'wl_ratio', 'metro']] #select relevant columns\n",
    "    mlb_df['metro'].replace(r'^\\s*$', np.nan, regex=True, inplace=True) #apply NaN to missing metro data\n",
    "    citydict = {0:'Phoenix',8:'Denver',14:'Miami–Fort Lauderdale',16:'Minneapolis–Saint Paul',17:'New York City',18:'New York City',19:'San Francisco Bay Area',23:'San Francisco Bay Area',26: 'Tampa Bay Area',27:'Dallas–Fort Worth',29:'Washington, D.C.'}\n",
    "        #note that Metro names uses a longer dash '–' vs '-' in the cities DF so the dict above uses...\n",
    "        #the longer dash. This took time to figure out, it was returning NaN for Dallas population...\n",
    "        #because it was not properly mapping below to create nba_df['Population'] column due to incorrect sized dash used in the hand typed dict\n",
    "    mlb_df['metro'].fillna(citydict, inplace=True)\n",
    "        #fill missing metro data with dictionary values, dict keys being reference to index that was reset earlier\n",
    "    mlb_df['avgWL'] = mlb_df.groupby('metro')['wl_ratio'].transform('mean')\n",
    "        #calculates average wl_ratio by metro area, results are entered into AvgWL column more than once if there is more than 1 team per metro area\n",
    "    cities['Population (2016 est.)[8]'] = pd.to_numeric(cities['Population (2016 est.)[8]'])\n",
    "        #needed else Dallas-Fort Worth population becomes NaN in next step, i.e. series was not all integer type\n",
    "    mlb_df['Population'] = mlb_df.metro.map(cities.set_index('Metro')['Population (2016 est.)[8]'].to_dict())\n",
    "    #print(mlb_df)\n",
    "\n",
    "    mlb_final = mlb_df[['metro','avgWL','Population']]\n",
    "    mlb_final = mlb_final.drop_duplicates(subset=['metro'])\n",
    "    mlb_final = mlb_final.sort_values(by=['metro'])\n",
    "    mlb_final = mlb_final.set_index('metro',drop=True)\n",
    "    #print(mlb_final)\n",
    "\n",
    "    return mlb_final\n",
    "\n",
    "def mlb_correlation(): \n",
    "    # YOUR CODE HERE\n",
    "\n",
    "    mlb = mlb_final()\n",
    "\n",
    "    population_by_region = mlb['Population'] # pass in metropolitan area population from cities\n",
    "    win_loss_by_region = mlb['avgWL'] # pass in win/loss ratio from nhl_df in the same order as cities[\"Metropolitan area\"]\n",
    "\n",
    "    mlb_corr = stats.pearsonr(population_by_region, win_loss_by_region)\n",
    "    mlb_corr[0]\n",
    "    \n",
    "    assert len(population_by_region) == len(win_loss_by_region), \"Q3: Your lists must be the same length\"\n",
    "    assert len(population_by_region) == 26, \"Q3: There should be 26 teams being analysed for MLB\"\n",
    "\n",
    "    #raise NotImplementedError()\n",
    "    return mlb_corr[0]\n",
    "\n",
    "mlb_correlation()"
   ]
  },
  {
   "cell_type": "code",
   "execution_count": null,
   "metadata": {
    "deletable": false,
    "editable": false,
    "nbgrader": {
     "checksum": "cda33b094ba19ccc37a481e0dd29e0bc",
     "grade": true,
     "grade_id": "cell-764d4476f425c5a2",
     "locked": true,
     "points": 20,
     "schema_version": 1,
     "solution": false
    }
   },
   "outputs": [],
   "source": []
  },
  {
   "cell_type": "markdown",
   "metadata": {
    "deletable": false,
    "editable": false,
    "nbgrader": {
     "checksum": "6977a6da9ed6d8b7a0b7e37bbeda709b",
     "grade": false,
     "grade_id": "cell-793df6c04dfb126e",
     "locked": true,
     "schema_version": 1,
     "solution": false
    }
   },
   "source": [
    "## Question 4\n",
    "For this question, calculate the win/loss ratio's correlation with the population of the city it is in for the **NFL** using **2018** data."
   ]
  },
  {
   "cell_type": "code",
   "execution_count": 4,
   "metadata": {
    "deletable": false,
    "nbgrader": {
     "checksum": "c4914ad1e119278ec2bd567c52640b66",
     "grade": false,
     "grade_id": "cell-8ccebc209aeec8d9",
     "locked": false,
     "schema_version": 1,
     "solution": true
    }
   },
   "outputs": [
    {
     "data": {
      "text/plain": [
       "0.004922112149349393"
      ]
     },
     "execution_count": 4,
     "metadata": {},
     "output_type": "execute_result"
    }
   ],
   "source": [
    "import pandas as pd\n",
    "import numpy as np\n",
    "import scipy.stats as stats\n",
    "import re\n",
    "\n",
    "nfl_df=pd.read_csv(\"assets/nfl.csv\")\n",
    "cities=pd.read_html(\"assets/wikipedia_data.html\")[1]\n",
    "cities=cities.iloc[:-1,[0,3,5,6,7,8]]\n",
    "\n",
    "def nfl_final():\n",
    "    population_by_region = [] # pass in metropolitan area population from cities\n",
    "    win_loss_by_region = [] # pass in win/loss ratio from nfl_df in the same order as cities[\"Metropolitan area\"]\n",
    "\n",
    "    nfl_df=pd.read_csv(\"assets/nfl.csv\")\n",
    "    cities=pd.read_html(\"assets/wikipedia_data.html\")[1]\n",
    "    cities=cities.iloc[:-1,[0,3,5,6,7,8]]\n",
    "\n",
    "    nfl_df['year'] = pd.to_numeric(nfl_df['year'])\n",
    "    nfl_df = nfl_df.where(nfl_df['year']==2018).dropna(how='all')\n",
    "    nfl_df = nfl_df[~nfl_df['W'].str.contains('(FC)')]\n",
    "    nfl_df['team'] = nfl_df['team'].str.extract(r'((?:^|(?<= ))[A-Z][ A-Za-z][ \\w]+)', expand=False)\n",
    "    nfl_df['team'] = nfl_df['team'].str.strip()\n",
    "    nfl_df['W'] = pd.to_numeric(nfl_df['W'])\n",
    "    nfl_df['L'] = pd.to_numeric(nfl_df['L'])\n",
    "    nfl_df['wl_ratio'] = nfl_df['W'] / (nfl_df['W'] + nfl_df['L'])\n",
    "    cities['NFL'] = cities['NFL'].str.extract(r'((?:^|(?<= ))[A-Z][A-Za-z]+)', expand=False) \n",
    "        #Above eliminates bracketed notes at the end of each team description, e.g. [note 3]\n",
    "    cities.rename(columns={'Metropolitan area':'Metro'}, inplace=True)\n",
    "\n",
    "    metrolist = cities.Metro.unique().tolist()\n",
    "    nfl_df['metro'] = nfl_df['team'].apply(lambda x: ''.join([city for city in metrolist if city in x]))\n",
    "        #creates new metro column to nhl_df and populates with known areas from cities df, need to hand code missing values\n",
    "    nfl_df['team'] = nfl_df['team'].str.strip()\n",
    "    nfl_df = nfl_df.sort_values(by=['team'])\n",
    "    nfl_df.reset_index(drop=True,inplace=True)\n",
    "        #need to sort and reset index in order to hand code missing metro areas for teams\n",
    "    nfl_df = nfl_df[['team','W', 'L', 'year', 'wl_ratio', 'metro']] #select relevant columns\n",
    "    nfl_df['metro'].replace(r'^\\s*$', np.nan, regex=True, inplace=True) #apply NaN to missing metro data\n",
    "    citydict = {0:'Phoenix',4:'Charlotte',8:'Dallas–Fort Worth',18:'Miami–Fort Lauderdale',19:'Minneapolis–Saint Paul',20:'Boston',22:'New York City',23:'New York City',24:'San Francisco Bay Area',27:'San Francisco Bay Area',29:'Tampa Bay Area',30:'Nashville',31:'Washington, D.C.'}\n",
    "        #note that Metro names uses a longer dash '–' vs shorter '-' in the cities DF so the dict above uses...\n",
    "        #the longer dash. This took time to figure out, it was returning NaN for Dallas population...\n",
    "        #because it was not properly mapping below to create nba_df['Population'] column due to incorrect sized dash used in the hand typed dict\n",
    "    nfl_df['metro'].fillna(citydict, inplace=True)\n",
    "        #fill missing metro data with dictionary values, dict keys being reference to index that was reset earlier\n",
    "    nfl_df['avgWL'] = nfl_df.groupby('metro')['wl_ratio'].transform('mean')\n",
    "        #calculates average wl_ratio by metro area, results are entered into AvgWL column more than once if there is more than 1 team per metro area\n",
    "    cities['Population (2016 est.)[8]'] = pd.to_numeric(cities['Population (2016 est.)[8]'])\n",
    "        #needed else Dallas-Fort Worth population becomes NaN in next step, i.e. series was not all integer type\n",
    "    nfl_df['Population'] = nfl_df.metro.map(cities.set_index('Metro')['Population (2016 est.)[8]'].to_dict())\n",
    "    #print(nfl_df)\n",
    "\n",
    "    nfl_final = nfl_df[['metro','avgWL','Population']]\n",
    "    nfl_final = nfl_final.drop_duplicates(subset=['metro'])\n",
    "    nfl_final = nfl_final.sort_values(by=['metro'])\n",
    "    nfl_final = nfl_final.set_index('metro',drop=True)\n",
    "    #print(nfl_final)\n",
    "\n",
    "    return nfl_final\n",
    "\n",
    "def nfl_correlation(): \n",
    "    # YOUR CODE HERE\n",
    "    \n",
    "    nfl = nfl_final()\n",
    "\n",
    "    population_by_region = nfl['Population'] # pass in metropolitan area population from cities\n",
    "    win_loss_by_region = nfl['avgWL'] # pass in win/loss ratio from nhl_df in the same order as cities[\"Metropolitan area\"]\n",
    "\n",
    "    nfl_corr = stats.pearsonr(population_by_region, win_loss_by_region)\n",
    "    nfl_corr[0]\n",
    "    \n",
    "    assert len(population_by_region) == len(win_loss_by_region), \"Q4: Your lists must be the same length\"\n",
    "    assert len(population_by_region) == 29, \"Q4: There should be 29 teams being analysed for NFL\"\n",
    "\n",
    "    #raise NotImplementedError()\n",
    "    return nfl_corr[0]\n",
    "\n",
    "nfl_correlation()"
   ]
  },
  {
   "cell_type": "code",
   "execution_count": null,
   "metadata": {
    "deletable": false,
    "editable": false,
    "nbgrader": {
     "checksum": "e9415d6399aa49e3a1a60813afdefa3b",
     "grade": true,
     "grade_id": "cell-de7b148b9554dbda",
     "locked": true,
     "points": 20,
     "schema_version": 1,
     "solution": false
    }
   },
   "outputs": [],
   "source": []
  },
  {
   "cell_type": "markdown",
   "metadata": {
    "deletable": false,
    "editable": false,
    "nbgrader": {
     "checksum": "b02d5cd3273f561e4ae939bb2a41740c",
     "grade": false,
     "grade_id": "cell-97b49d8639e908c4",
     "locked": true,
     "schema_version": 1,
     "solution": false
    }
   },
   "source": [
    "## Question 5\n",
    "In this question I would like you to explore the hypothesis that **given that an area has two sports teams in different sports, those teams will perform the same within their respective sports**. How I would like to see this explored is with a series of paired t-tests (so use [`ttest_rel`](https://docs.scipy.org/doc/scipy/reference/generated/scipy.stats.ttest_rel.html)) between all pairs of sports. Are there any sports where we can reject the null hypothesis? Again, average values where a sport has multiple teams in one region. Remember, you will only be including, for each sport, cities which have teams engaged in that sport, drop others as appropriate. This question is worth 20% of the grade for this assignment."
   ]
  },
  {
   "cell_type": "code",
   "execution_count": 5,
   "metadata": {
    "deletable": false,
    "nbgrader": {
     "checksum": "6d78c961eb66f8d8c81f06d33ae8f393",
     "grade": false,
     "grade_id": "cell-92f25f44b8d1179f",
     "locked": false,
     "schema_version": 1,
     "solution": true
    }
   },
   "outputs": [
    {
     "data": {
      "text/html": [
       "<div>\n",
       "<style scoped>\n",
       "    .dataframe tbody tr th:only-of-type {\n",
       "        vertical-align: middle;\n",
       "    }\n",
       "\n",
       "    .dataframe tbody tr th {\n",
       "        vertical-align: top;\n",
       "    }\n",
       "\n",
       "    .dataframe thead th {\n",
       "        text-align: right;\n",
       "    }\n",
       "</style>\n",
       "<table border=\"1\" class=\"dataframe\">\n",
       "  <thead>\n",
       "    <tr style=\"text-align: right;\">\n",
       "      <th></th>\n",
       "      <th>NFL</th>\n",
       "      <th>NBA</th>\n",
       "      <th>NHL</th>\n",
       "      <th>MLB</th>\n",
       "    </tr>\n",
       "  </thead>\n",
       "  <tbody>\n",
       "    <tr>\n",
       "      <th>NFL</th>\n",
       "      <td>NaN</td>\n",
       "      <td>0.941792</td>\n",
       "      <td>0.030883</td>\n",
       "      <td>0.802069</td>\n",
       "    </tr>\n",
       "    <tr>\n",
       "      <th>NBA</th>\n",
       "      <td>0.941792</td>\n",
       "      <td>NaN</td>\n",
       "      <td>0.022297</td>\n",
       "      <td>0.950540</td>\n",
       "    </tr>\n",
       "    <tr>\n",
       "      <th>NHL</th>\n",
       "      <td>0.030883</td>\n",
       "      <td>0.022297</td>\n",
       "      <td>NaN</td>\n",
       "      <td>0.000708</td>\n",
       "    </tr>\n",
       "    <tr>\n",
       "      <th>MLB</th>\n",
       "      <td>0.802069</td>\n",
       "      <td>0.950540</td>\n",
       "      <td>0.000708</td>\n",
       "      <td>NaN</td>\n",
       "    </tr>\n",
       "  </tbody>\n",
       "</table>\n",
       "</div>"
      ],
      "text/plain": [
       "          NFL       NBA       NHL       MLB\n",
       "NFL       NaN  0.941792  0.030883  0.802069\n",
       "NBA  0.941792       NaN  0.022297  0.950540\n",
       "NHL  0.030883  0.022297       NaN  0.000708\n",
       "MLB  0.802069  0.950540  0.000708       NaN"
      ]
     },
     "execution_count": 5,
     "metadata": {},
     "output_type": "execute_result"
    }
   ],
   "source": [
    "import pandas as pd\n",
    "import numpy as np\n",
    "import scipy.stats as stats\n",
    "import re\n",
    "\n",
    "mlb_df=pd.read_csv(\"assets/mlb.csv\")\n",
    "nhl_df=pd.read_csv(\"assets/nhl.csv\")\n",
    "nba_df=pd.read_csv(\"assets/nba.csv\")\n",
    "nfl_df=pd.read_csv(\"assets/nfl.csv\")\n",
    "cities=pd.read_html(\"assets/wikipedia_data.html\")[1]\n",
    "cities=cities.iloc[:-1,[0,3,5,6,7,8]]\n",
    "\n",
    "def sports_team_performance():\n",
    "    # YOUR CODE HERE\n",
    "    \n",
    "    # Note: p_values is a full dataframe, so df.loc[\"NFL\",\"NBA\"] should be the same as df.loc[\"NBA\",\"NFL\"] and\n",
    "    # df.loc[\"NFL\",\"NFL\"] should return np.nan\n",
    "    sports = ['NFL', 'NBA', 'NHL', 'MLB']\n",
    "    p_values = pd.DataFrame({k:np.nan for k in sports}, index=sports)\n",
    "    \n",
    "    nfl = nfl_final()\n",
    "    nba = nba_final()\n",
    "    nhl = nhl_final()\n",
    "    mlb = mlb_final()\n",
    "    sport_df = [nfl, nba, nhl, mlb]\n",
    "\n",
    "    p_vals = []\n",
    "    for sport_i in sport_df:\n",
    "        for sport_j in sport_df:\n",
    "            merge_df = pd.merge(sport_i, sport_j, on = ['metro'])     #merged df has 4 columns with index being metro area: avgWL sport 1, population, avgWL sport 2, population\n",
    "            ttest = stats.ttest_rel(merge_df.iloc[:, 0], merge_df.iloc[:, 2])    #feeding into ttest_rel the avgWL columns for each sport from line above\n",
    "            p_vals.append(ttest[1])     #need the second value of the returned tuple which is the 2-sided p-value then append to list\n",
    "\n",
    "    p_array = np.array(p_vals)\n",
    "    p_array = p_array.reshape(4,4)\n",
    "    p_values = pd.DataFrame(data=p_array, index=sports, columns=sports)\n",
    "    \n",
    "    assert abs(p_values.loc[\"NBA\", \"NHL\"] - 0.02) <= 1e-2, \"The NBA-NHL p-value should be around 0.02\"\n",
    "    assert abs(p_values.loc[\"MLB\", \"NFL\"] - 0.80) <= 1e-2, \"The MLB-NFL p-value should be around 0.80\"\n",
    "    #raise NotImplementedError()\n",
    "    return p_values\n",
    "\n",
    "sports_team_performance()"
   ]
  },
  {
   "cell_type": "code",
   "execution_count": null,
   "metadata": {
    "deletable": false,
    "editable": false,
    "nbgrader": {
     "checksum": "2a596ab421a45cc01168d10e8fbb8f89",
     "grade": true,
     "grade_id": "cell-fb4b9cb5ff4570a6",
     "locked": true,
     "points": 20,
     "schema_version": 1,
     "solution": false
    }
   },
   "outputs": [],
   "source": []
  }
 ],
 "metadata": {
  "coursera": {
   "schema_names": [
    "mooc_adswpy_1_v2_assignment4"
   ]
  },
  "kernelspec": {
   "display_name": "Python 3",
   "language": "python",
   "name": "python3"
  },
  "language_info": {
   "codemirror_mode": {
    "name": "ipython",
    "version": 3
   },
   "file_extension": ".py",
   "mimetype": "text/x-python",
   "name": "python",
   "nbconvert_exporter": "python",
   "pygments_lexer": "ipython3",
   "version": "3.7.3"
  }
 },
 "nbformat": 4,
 "nbformat_minor": 4
}
